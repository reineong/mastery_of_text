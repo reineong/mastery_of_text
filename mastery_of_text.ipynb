{
 "cells": [
  {
   "cell_type": "code",
   "execution_count": 3,
   "id": "ddd4556f-04a0-4096-9ff2-ae66eb89cf28",
   "metadata": {},
   "outputs": [],
   "source": [
    "# Importing required module\n",
    "import urllib.request\n",
    "\n",
    "# Fetch the text from the URL and store it in the variable `pg10`\n",
    "url = \"https://www.gutenberg.org/cache/epub/10/pg10.txt\"\n",
    "response = urllib.request.urlopen(url)\n",
    "pg10 = response.read().decode('utf-8')"
   ]
  },
  {
   "cell_type": "code",
   "execution_count": 15,
   "id": "f38322e1-f578-4584-8378-9a1e32c56a46",
   "metadata": {},
   "outputs": [
    {
     "data": {
      "text/plain": [
       "99969"
      ]
     },
     "execution_count": 15,
     "metadata": {},
     "output_type": "execute_result"
    }
   ],
   "source": [
    "## Number of Lines\n",
    "\n",
    "# The number of lines in the text is:\n",
    "# Count the number of lines in the text\n",
    "lines = pg10.split('\\n')\n",
    "num_lines = len(lines)\n",
    "# Display the number of lines\n",
    "num_lines\n"
   ]
  },
  {
   "cell_type": "code",
   "execution_count": 9,
   "id": "7def3b3c-7053-44f2-8e97-78c0409978e1",
   "metadata": {},
   "outputs": [
    {
     "data": {
      "text/plain": [
       "795227"
      ]
     },
     "execution_count": 9,
     "metadata": {},
     "output_type": "execute_result"
    }
   ],
   "source": [
    "## Number of Words\n",
    "\n",
    "# The number of words in the text is:\n",
    "# Helper function to split text into words\n",
    "def split_into_words(text):\n",
    "    words = []\n",
    "    current_word = []\n",
    "    for char in text:\n",
    "        if char.isalpha():\n",
    "            current_word.append(char)\n",
    "        else:\n",
    "            if current_word:\n",
    "                words.append(''.join(current_word))\n",
    "                current_word = []\n",
    "    if current_word:\n",
    "        words.append(''.join(current_word))\n",
    "    return words\n",
    "\n",
    "# 2. Count the number of words in the text\n",
    "words = split_into_words(pg10)\n",
    "num_words = len(words)\n",
    "# Display the number of words\n",
    "num_words"
   ]
  },
  {
   "cell_type": "code",
   "execution_count": 11,
   "id": "098f5ba7-1789-4d0a-bacb-4c1764251f19",
   "metadata": {},
   "outputs": [
    {
     "data": {
      "text/plain": [
       "47"
      ]
     },
     "execution_count": 11,
     "metadata": {},
     "output_type": "execute_result"
    }
   ],
   "source": [
    "## Occurrences of the Word \"Apostle\"\n",
    "\n",
    "# The number of times the word \"apostle\" appears in the text is:\n",
    "# 3. Count the number of times the word \"apostle\" appears\n",
    "apostle_count = sum(1 for word in words if word.lower() == 'apostle')\n",
    "# Display the count of the word \"apostle\"\n",
    "apostle_count\n",
    "\n"
   ]
  },
  {
   "cell_type": "code",
   "execution_count": 13,
   "id": "b5a60123-3fa2-41fc-b89f-e3641310ec8a",
   "metadata": {},
   "outputs": [
    {
     "data": {
      "text/plain": [
       "('the', 64309)"
      ]
     },
     "execution_count": 13,
     "metadata": {},
     "output_type": "execute_result"
    }
   ],
   "source": [
    "## Most Common Word\n",
    "\n",
    "# The most common word in the text and its occurrences is:\n",
    "# 4. Find the most common word\n",
    "word_counts = {}\n",
    "for word in words:\n",
    "    word_lower = word.lower()\n",
    "    if word_lower in word_counts:\n",
    "        word_counts[word_lower] += 1\n",
    "    else:\n",
    "        word_counts[word_lower] = 1\n",
    "\n",
    "most_common_word = max(word_counts, key=word_counts.get)\n",
    "most_common_count = word_counts[most_common_word]\n",
    "# Display the most common word and its occurrences\n",
    "most_common_word, most_common_count\n",
    "\n"
   ]
  },
  {
   "cell_type": "code",
   "execution_count": null,
   "id": "72661420-ad79-4360-8d3d-04c3ce08d3ea",
   "metadata": {},
   "outputs": [],
   "source": []
  }
 ],
 "metadata": {
  "kernelspec": {
   "display_name": "Python 3 (ipykernel)",
   "language": "python",
   "name": "python3"
  },
  "language_info": {
   "codemirror_mode": {
    "name": "ipython",
    "version": 3
   },
   "file_extension": ".py",
   "mimetype": "text/x-python",
   "name": "python",
   "nbconvert_exporter": "python",
   "pygments_lexer": "ipython3",
   "version": "3.11.7"
  }
 },
 "nbformat": 4,
 "nbformat_minor": 5
}
